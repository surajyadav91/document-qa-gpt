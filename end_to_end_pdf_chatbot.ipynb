{
 "cells": [
  {
   "cell_type": "code",
   "execution_count": 2,
   "metadata": {},
   "outputs": [
    {
     "name": "stderr",
     "output_type": "stream",
     "text": [
      "/Users/syadav897/python_venv/labweek_v9/lib/python3.10/site-packages/tqdm/auto.py:21: TqdmWarning: IProgress not found. Please update jupyter and ipywidgets. See https://ipywidgets.readthedocs.io/en/stable/user_install.html\n",
      "  from .autonotebook import tqdm as notebook_tqdm\n"
     ]
    }
   ],
   "source": [
    "import numpy as np\n",
    "import pandas as pd\n",
    "from datasets import load_from_disk\n",
    "from datasets import Dataset\n",
    "import openai\n",
    "import pickle\n",
    "import gradio as gr\n",
    "from langchain.document_loaders import PyPDFLoader\n",
    "from langchain.text_splitter import RecursiveCharacterTextSplitter"
   ]
  },
  {
   "cell_type": "code",
   "execution_count": 3,
   "metadata": {},
   "outputs": [],
   "source": [
    "## Load openai key\n",
    "openai.api_key = open(\"key.txt\", \"r\").read()"
   ]
  },
  {
   "cell_type": "code",
   "execution_count": 9,
   "metadata": {},
   "outputs": [],
   "source": [
    "embedding_model = 'text-embedding-ada-002'\n",
    "chat_gpt_model = 'gpt-3.5-turbo'"
   ]
  },
  {
   "attachments": {},
   "cell_type": "markdown",
   "metadata": {},
   "source": [
    "#### Load PDF File and create chuncks"
   ]
  },
  {
   "cell_type": "code",
   "execution_count": 4,
   "metadata": {},
   "outputs": [],
   "source": [
    "loader = PyPDFLoader('./SpaceX_NASA_CRS-5_PressKit.pdf')\n",
    "documents = loader.load()\n",
    "text_splitter = RecursiveCharacterTextSplitter(chunk_size=2000, chunk_overlap=400)\n",
    "split = text_splitter.split_documents(documents)"
   ]
  },
  {
   "cell_type": "code",
   "execution_count": 6,
   "metadata": {},
   "outputs": [
    {
     "name": "stdout",
     "output_type": "stream",
     "text": [
      "Number of chunks:  40\n"
     ]
    }
   ],
   "source": [
    "print(\"Number of chunks: \", len(split))"
   ]
  },
  {
   "attachments": {},
   "cell_type": "markdown",
   "metadata": {},
   "source": [
    "#### Store formed chuncks to disk "
   ]
  },
  {
   "cell_type": "code",
   "execution_count": 8,
   "metadata": {},
   "outputs": [],
   "source": [
    "chunks = []\n",
    "for i in range(len(split)):\n",
    "    chunks.append(split[i].page_content)\n",
    "\n",
    "with open('chunks.pkl', 'wb') as f:\n",
    "    pickle.dump(chunks, f)"
   ]
  },
  {
   "attachments": {},
   "cell_type": "markdown",
   "metadata": {},
   "source": [
    "#### Create Embeddings for chunck and build faiss index\n"
   ]
  },
  {
   "cell_type": "code",
   "execution_count": 10,
   "metadata": {},
   "outputs": [],
   "source": [
    "## load chuncks from pickle file\n",
    "with open('chunks.pkl', 'rb') as f:\n",
    "    chunks = pickle.load(f)"
   ]
  },
  {
   "cell_type": "code",
   "execution_count": 11,
   "metadata": {},
   "outputs": [
    {
     "name": "stderr",
     "output_type": "stream",
     "text": [
      "100%|██████████| 1/1 [00:00<00:00, 350.02it/s]\n",
      "                                                                                         \r"
     ]
    }
   ],
   "source": [
    "data_df = pd.DataFrame(chunks, columns=['text'])\n",
    "data_df['embedding'] = data_df['text'].apply(lambda x: np.array(openai.Embedding.create(input=x,model=embedding_model)['data'][0]['embedding']))\n",
    "hf_dataset = Dataset.from_pandas(data_df)\n",
    "hf_dataset.add_faiss_index(column='embedding')\n",
    "hf_dataset.save_faiss_index('embedding','faiss_index.faiss')\n",
    "hf_dataset.drop_index('embedding')\n",
    "hf_dataset.save_to_disk('./hf_dataset')"
   ]
  },
  {
   "attachments": {},
   "cell_type": "markdown",
   "metadata": {},
   "source": [
    "#### Chatgpt API for QA and prompt setup"
   ]
  },
  {
   "cell_type": "code",
   "execution_count": 14,
   "metadata": {},
   "outputs": [],
   "source": [
    "def read(question,passage):\n",
    "    messages = [\n",
    "        dict(\n",
    "            role = 'system',\n",
    "            content = \"you are an intelligent question-answering assistant, you will answer the questions based on context text fed to you.\"\n",
    "        )\n",
    "    ]\n",
    "\n",
    "    messages.append(dict(role='user',content=passage))\n",
    "\n",
    "    messages.append(\n",
    "            dict(\n",
    "                role=\"user\",\n",
    "                content=f\"\\n\\n Based on the above text answer this question \\n\\n, question: {question}\",\n",
    "            )\n",
    "        )\n",
    "    \n",
    "    response = openai.ChatCompletion.create(\n",
    "            model=chat_gpt_model, messages=messages\n",
    "        )\n",
    "\n",
    "    return response[\"choices\"][0][\"message\"][\"content\"]"
   ]
  },
  {
   "attachments": {},
   "cell_type": "markdown",
   "metadata": {},
   "source": [
    "#### Retrieving top chuncks based on question embeddings"
   ]
  },
  {
   "cell_type": "code",
   "execution_count": 15,
   "metadata": {},
   "outputs": [],
   "source": [
    "## Load the dataset\n",
    "hf_dataset = load_from_disk('./hf_dataset')\n",
    "hf_dataset.load_faiss_index('embedding','faiss_index.faiss')\n"
   ]
  },
  {
   "cell_type": "code",
   "execution_count": 16,
   "metadata": {},
   "outputs": [],
   "source": [
    "def retriever(question):\n",
    "    question_embedding = np.array(openai.Embedding.create(input=question,model=embedding_model)['data'][0]['embedding'])\n",
    "    scores,samples = hf_dataset.get_nearest_examples('embedding',question_embedding,k=5)\n",
    "    samples_df = pd.DataFrame.from_dict(samples)\n",
    "    samples_df['scores'] = scores\n",
    "    samples_df = samples_df.sort_values(by='scores',ascending=True)\n",
    "    context = '\\n'.join(samples_df['text'].tolist())\n",
    "    return context"
   ]
  },
  {
   "cell_type": "code",
   "execution_count": 17,
   "metadata": {},
   "outputs": [
    {
     "name": "stdout",
     "output_type": "stream",
     "text": [
      "The 2005 NASA Authorization Act designated the U.S. segment of the space station as a national laboratory.\n"
     ]
    }
   ],
   "source": [
    "question = \"what is 2005 NASA Authorization Act\"\n",
    "passage = retriever(question)\n",
    "answer = read(question,passage)\n",
    "print(answer)"
   ]
  },
  {
   "cell_type": "code",
   "execution_count": 18,
   "metadata": {},
   "outputs": [
    {
     "name": "stdout",
     "output_type": "stream",
     "text": [
      "SpaceX has more than 3,000 employees according to the provided information.\n"
     ]
    }
   ],
   "source": [
    "question = \"How many employees does SpaceX have?\"\n",
    "passage = retriever(question)\n",
    "answer = read(question,passage)\n",
    "print(answer)"
   ]
  },
  {
   "cell_type": "code",
   "execution_count": 19,
   "metadata": {},
   "outputs": [
    {
     "name": "stdout",
     "output_type": "stream",
     "text": [
      "The headquarters of SpaceX is located in Hawthorne, California.\n"
     ]
    }
   ],
   "source": [
    "question = \"where is the headquarters of SpaceX\"\n",
    "passage = retriever(question)\n",
    "answer = read(question,passage)\n",
    "print(answer)"
   ]
  },
  {
   "cell_type": "code",
   "execution_count": 20,
   "metadata": {},
   "outputs": [
    {
     "name": "stdout",
     "output_type": "stream",
     "text": [
      "The countries involved in this mission are the United States, Canada, Japan, Russia, Belgium, Denmark, France, Germany, Italy, the Netherlands, Norway, Spain, Sweden, Switzerland, and the United Kingdom.\n"
     ]
    }
   ],
   "source": [
    "question = \"List all countries that were involved in this mission\"\n",
    "passage = retriever(question)\n",
    "answer = read(question,passage)\n",
    "print(answer)"
   ]
  },
  {
   "cell_type": "code",
   "execution_count": 21,
   "metadata": {},
   "outputs": [
    {
     "name": "stdout",
     "output_type": "stream",
     "text": [
      "- March 2002: SpaceX is incorporated\n",
      "- March 2006: First flight of SpaceX's Falcon 1 rocket\n",
      "- August 2006: NASA awards SpaceX $278 million to demonstrate delivery and return of cargo to ISS\n",
      "- September 2008: Falcon 1, SpaceX's prototype rocket, is the first privately developed liquid-fueled rocket to orbit Earth\n",
      "- December 2008: NASA awards SpaceX $1.6 billion contract for 12 ISS cargo resupply flights\n",
      "- July 2009: Falcon 1 becomes the first privately developed rocket to deliver a commercial satellite into orbit\n",
      "- June 2010: First flight of SpaceX's Falcon 9 rocket, which successfully achieves Earth orbit\n",
      "- December 2010: SpaceX becomes the first commercial company to launch a spacecraft into orbit and recover it successfully\n",
      "- May 2012: SpaceX's Dragon becomes the first commercial spacecraft to attach to the ISS, deliver cargo, and return to Earth\n",
      "- August 2012: SpaceX wins $440 million NASA Space Act Agreement to develop Dragon to transport humans into space\n",
      "- October 2012: SpaceX completes first of 12 official cargo resupply missions to the ISS, beginning a new era of commercial space transport\n",
      "- September 2013: First flight of SpaceX's upgraded Falcon 9 rocket, with successful re-entry of the first stage booster\n",
      "- December 2013: First flight of Falcon 9 to geosynchronous transfer orbit\n",
      "- April 2014: SpaceX successfully lands Falcon 9 first stage in Atlantic Ocean\n",
      "- September 2014: SpaceX is awarded $2.6 billion contract to fly American astronauts for NASA\n"
     ]
    }
   ],
   "source": [
    "question = \"List all milestones of spaceX\"\n",
    "passage = retriever(question)\n",
    "answer = read(question,passage)\n",
    "print(answer)"
   ]
  },
  {
   "cell_type": "code",
   "execution_count": 22,
   "metadata": {},
   "outputs": [
    {
     "name": "stdout",
     "output_type": "stream",
     "text": [
      "The location of ISRO (Indian Space Research Organization) is not mentioned in the given text.\n"
     ]
    }
   ],
   "source": [
    "## let's ask question outside the document\n",
    "## it should answer that this information is not present in the document\n",
    "\n",
    "question = \"where is isro located\"\n",
    "passage = retriever(question)\n",
    "answer = read(question,passage)\n",
    "print(answer)"
   ]
  }
 ],
 "metadata": {
  "kernelspec": {
   "display_name": "labweek_v9",
   "language": "python",
   "name": "python3"
  },
  "language_info": {
   "codemirror_mode": {
    "name": "ipython",
    "version": 3
   },
   "file_extension": ".py",
   "mimetype": "text/x-python",
   "name": "python",
   "nbconvert_exporter": "python",
   "pygments_lexer": "ipython3",
   "version": "3.10.10"
  },
  "orig_nbformat": 4
 },
 "nbformat": 4,
 "nbformat_minor": 2
}
